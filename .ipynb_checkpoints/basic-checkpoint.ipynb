{
 "cells": [
  {
   "cell_type": "code",
   "execution_count": 3,
   "metadata": {
    "ExecuteTime": {
     "end_time": "2018-09-23T13:18:05.671618Z",
     "start_time": "2018-09-23T13:18:05.668532Z"
    }
   },
   "outputs": [],
   "source": [
    "from sympy import *"
   ]
  },
  {
   "cell_type": "code",
   "execution_count": null,
   "metadata": {},
   "outputs": [],
   "source": [
    "adj = [[]] # adj list representation 0th element is dummy and nodes indexed from 1\n",
    "edgelist = []\n",
    "fileprefix = \"test\"\n",
    "with open(fileprefix+\".graph\",\"r\") as infile:\n",
    "    first = infile.readline()\n",
    "    pars = first.split(\" \")\n",
    "    n = int(pars[0])\n",
    "    edges = int(pars[1])\n",
    "    K = int(pars[2])\n",
    "    for i in range(edges):\n",
    "        adj.append([])\n",
    "    for i in range(edges):\n",
    "        line = infile.readline()\n",
    "        spl = line.split(\" \")\n",
    "        n1 = inr(spl[0])\n",
    "        n2 = inr(spl[2])\n",
    "        edgelist.append([n1,n2])\n",
    "#         edgelist.append([n2,n1])\n",
    "        adj[n1].append(n2)\n",
    "        adj[n2].append(n1)"
   ]
  },
  {
   "cell_type": "code",
   "execution_count": null,
   "metadata": {},
   "outputs": [],
   "source": [
    "sympy.to_cnf()"
   ]
  },
  {
   "cell_type": "code",
   "execution_count": 16,
   "metadata": {
    "ExecuteTime": {
     "end_time": "2018-09-23T13:20:36.585407Z",
     "start_time": "2018-09-23T13:20:36.581594Z"
    }
   },
   "outputs": [],
   "source": [
    "a,b,c,d,e,f,g,h,i,j = symbols('a,b,c,d,e,f,g,h,i,j')"
   ]
  },
  {
   "cell_type": "code",
   "execution_count": 17,
   "metadata": {
    "ExecuteTime": {
     "end_time": "2018-09-23T13:20:36.731767Z",
     "start_time": "2018-09-23T13:20:36.727519Z"
    }
   },
   "outputs": [],
   "source": [
    "exp = (a&b)|(c&d)|(e&f)|(g&h)|(i&j)"
   ]
  },
  {
   "cell_type": "code",
   "execution_count": 18,
   "metadata": {
    "ExecuteTime": {
     "end_time": "2018-09-23T13:20:37.369574Z",
     "start_time": "2018-09-23T13:20:37.365244Z"
    }
   },
   "outputs": [
    {
     "data": {
      "text/plain": [
       "(a & b) | (c & d) | (e & f) | (g & h) | (i & j)"
      ]
     },
     "execution_count": 18,
     "metadata": {},
     "output_type": "execute_result"
    }
   ],
   "source": [
    "exp"
   ]
  },
  {
   "cell_type": "code",
   "execution_count": 23,
   "metadata": {
    "ExecuteTime": {
     "end_time": "2018-09-23T13:21:08.602506Z",
     "start_time": "2018-09-23T13:21:07.049817Z"
    }
   },
   "outputs": [],
   "source": [
    "exp2 = to_cnf(exp,simplify=True)"
   ]
  },
  {
   "cell_type": "code",
   "execution_count": 26,
   "metadata": {
    "ExecuteTime": {
     "end_time": "2018-09-23T13:24:50.394948Z",
     "start_time": "2018-09-23T13:23:44.727909Z"
    }
   },
   "outputs": [
    {
     "data": {
      "text/plain": [
       "(a & b) | (c & d) | (e & f) | (g & h) | (i & j)"
      ]
     },
     "execution_count": 26,
     "metadata": {},
     "output_type": "execute_result"
    }
   ],
   "source": [
    "simplify_logic(exp, form='dnf')"
   ]
  },
  {
   "cell_type": "code",
   "execution_count": null,
   "metadata": {},
   "outputs": [],
   "source": []
  },
  {
   "cell_type": "code",
   "execution_count": null,
   "metadata": {},
   "outputs": [],
   "source": []
  },
  {
   "cell_type": "code",
   "execution_count": null,
   "metadata": {},
   "outputs": [],
   "source": []
  }
 ],
 "metadata": {
  "kernelspec": {
   "display_name": "Python 3",
   "language": "python",
   "name": "python3"
  },
  "language_info": {
   "codemirror_mode": {
    "name": "ipython",
    "version": 3
   },
   "file_extension": ".py",
   "mimetype": "text/x-python",
   "name": "python",
   "nbconvert_exporter": "python",
   "pygments_lexer": "ipython3",
   "version": "3.7.0"
  },
  "varInspector": {
   "cols": {
    "lenName": 16,
    "lenType": 16,
    "lenVar": 40
   },
   "kernels_config": {
    "python": {
     "delete_cmd_postfix": "",
     "delete_cmd_prefix": "del ",
     "library": "var_list.py",
     "varRefreshCmd": "print(var_dic_list())"
    },
    "r": {
     "delete_cmd_postfix": ") ",
     "delete_cmd_prefix": "rm(",
     "library": "var_list.r",
     "varRefreshCmd": "cat(var_dic_list()) "
    }
   },
   "types_to_exclude": [
    "module",
    "function",
    "builtin_function_or_method",
    "instance",
    "_Feature"
   ],
   "window_display": false
  }
 },
 "nbformat": 4,
 "nbformat_minor": 2
}
