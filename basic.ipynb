{
 "cells": [
  {
   "cell_type": "code",
   "execution_count": null,
   "metadata": {},
   "outputs": [],
   "source": [
    "adj = [[]] # adj list representation 0th element is dummy and nodes indexed from 1\n",
    "edgelist = []\n",
    "fileprefix = \"test\"\n",
    "with open(fileprefix+\".graph\",\"r\") as infile:\n",
    "    first = infile.readline()\n",
    "    pars = first.split(\" \")\n",
    "    n = int(pars[0])\n",
    "    edges = int(pars[1])\n",
    "    K = int(pars[2])\n",
    "    for i in range(edges):\n",
    "        adj.append([])\n",
    "    for i in range(edges):\n",
    "        line = infile.readline()\n",
    "        spl = line.split(\" \")\n",
    "        n1 = inr(spl[0])\n",
    "        n2 = inr(spl[2])\n",
    "        edgelist.append([n1,n2])\n",
    "#         edgelist.append([n2,n1])\n",
    "        adj[n1].append(n2)\n",
    "        adj[n2].append(n1)"
   ]
  },
  {
   "cell_type": "code",
   "execution_count": null,
   "metadata": {},
   "outputs": [],
   "source": [
    "sympy.to_cnf()"
   ]
  },
  {
   "cell_type": "code",
   "execution_count": null,
   "metadata": {
    "ExecuteTime": {
     "end_time": "2018-09-23T13:20:36.585407Z",
     "start_time": "2018-09-23T13:20:36.581594Z"
    }
   },
   "outputs": [],
   "source": [
    "a,b,c,d,e,f,g,h,i,j = symbols('a,b,c,d,e,f,g,h,i,j')"
   ]
  },
  {
   "cell_type": "code",
   "execution_count": null,
   "metadata": {
    "ExecuteTime": {
     "end_time": "2018-09-23T13:20:36.731767Z",
     "start_time": "2018-09-23T13:20:36.727519Z"
    }
   },
   "outputs": [],
   "source": [
    "exp = (a&b)|(c&d)|(e&f)|(g&h)|(i&j)"
   ]
  },
  {
   "cell_type": "code",
   "execution_count": null,
   "metadata": {
    "ExecuteTime": {
     "end_time": "2018-09-23T13:20:37.369574Z",
     "start_time": "2018-09-23T13:20:37.365244Z"
    }
   },
   "outputs": [],
   "source": [
    "exp"
   ]
  },
  {
   "cell_type": "code",
   "execution_count": null,
   "metadata": {
    "ExecuteTime": {
     "end_time": "2018-09-23T13:21:08.602506Z",
     "start_time": "2018-09-23T13:21:07.049817Z"
    }
   },
   "outputs": [],
   "source": [
    "exp2 = to_cnf(exp,simplify=True)"
   ]
  },
  {
   "cell_type": "code",
   "execution_count": null,
   "metadata": {
    "ExecuteTime": {
     "end_time": "2018-09-23T13:24:50.394948Z",
     "start_time": "2018-09-23T13:23:44.727909Z"
    }
   },
   "outputs": [],
   "source": [
    "simplify_logic(exp, form='dnf')"
   ]
  },
  {
   "cell_type": "code",
   "execution_count": null,
   "metadata": {},
   "outputs": [],
   "source": []
  },
  {
   "cell_type": "code",
   "execution_count": 10,
   "metadata": {
    "ExecuteTime": {
     "end_time": "2018-09-29T15:18:38.874323Z",
     "start_time": "2018-09-29T15:18:38.833656Z"
    }
   },
   "outputs": [],
   "source": [
    "# from sympy import *\n",
    "# import argparse\n",
    "import sys\n",
    "\n",
    "\n",
    "# Variable numbering in minsat starts with 1\n",
    "# i, j is node, sub-graph number\n",
    "def get1Dindex(i, j, k):\n",
    "    return (i*k + j)\n",
    "\n",
    "# Variable numbering in minsat starts with 1\n",
    "def get2Dindex(idx, k):\n",
    "    # can treat it as var starting from 0\n",
    "    # idx = idx - 1\n",
    "    i = idx // k\n",
    "    j = idx - i*k\n",
    "    return i,j\n",
    "\n",
    "def getInput(fileprefix):\n",
    "\n",
    "    # Construct graph from INPUT\n",
    "    edgelist = []\n",
    "    # fileprefix = \"test\"\n",
    "    with open(fileprefix+\".graph\",\"r\") as infile:\n",
    "        first = infile.readline()\n",
    "        pars = first.split(\" \")\n",
    "        n = int(pars[0])\n",
    "        edgeMatrix = [[False for x in range(n)] for y in range(n)] \n",
    "        edges = int(pars[1])\n",
    "        K = int(pars[2])\n",
    "\n",
    "        for i in range(edges):\n",
    "            line = infile.readline()\n",
    "            spl = line.split(\" \")\n",
    "            n1 = int(spl[0])\n",
    "            n2 = int(spl[1])\n",
    "            n1 -= 1\n",
    "            n2 -= 1\n",
    "            edgelist.append([n1,n2])\n",
    "\n",
    "            # print(n1, n2)\n",
    "            edgeMatrix[n1][n2] = True\n",
    "            edgeMatrix[n2][n1] = True\n",
    "\n",
    "    return edgelist, edgeMatrix, n, K, edges\n",
    "\n",
    "\n",
    "def generate(fileprefix):\n",
    "\n",
    "    edgeList, edgeMatrix, n, K, edges = getInput(fileprefix)\n",
    "    # A clause is a list of (list of tuples)\n",
    "    # Tuples of (Bool, number) where \n",
    "    clause1 = [] \n",
    "    \n",
    "    # variableMatrix[n][K] represents whether node n is present in k'th graph\n",
    "    # variableMatrix = [[False for i in range(n)] for j in range(K)]\n",
    "\n",
    "\n",
    "    for i in range(n):\n",
    "        l = []\n",
    "        for j in range(K):\n",
    "            l.append((True, get1Dindex(i,j,K)))\n",
    "        # element wise append \n",
    "        clause1.append(l)\n",
    "    \n",
    "    # print(\"Printing clause1 ------- \" , clause1)\n",
    "    \n",
    "    # DNF TYPE , or of 2 and's (x1^x2) V (x3^x4) V ...\n",
    "    clause2 = []\n",
    "\n",
    "    # print(\"EDGE MATRIX\", edgeMatrix)\n",
    "    for i in range(n):\n",
    "        for j in range(i+1, n):\n",
    "            if (edgeMatrix[i][j]):\n",
    "                l = []\n",
    "                for t in range(K):\n",
    "                    l.append( [(True, get1Dindex(i, t, K)), (True, get1Dindex(j, t, K))] )\n",
    "                clause2 = clause2 + l\n",
    "\n",
    "    # numVar is the index of next free variable\n",
    "    numVar = n*K + 1\n",
    "    # print('Printing edge matrix', edgeMatrix)\n",
    "    # print(\"Printing clause 2  ------- \" , clause2)\n",
    "    clause2, numVar = to_cnf(clause2, numVar)\n",
    "    # print(\"Printing clause 2 ---- \" , clause2)\n",
    "\n",
    "\n",
    "    clause3 = []\n",
    "    # i and j are nodes and t is subgraph\n",
    "    for i in range(n):\n",
    "        for j in range(i+1,n):\n",
    "            l = []\n",
    "            if(not edgeMatrix[i][j]):\n",
    "                for t in range(K):\n",
    "                    l.append([(False, get1Dindex(i, t, K)), (False, get1Dindex(j, t, K) )])\n",
    "            # concat l with clause3\n",
    "            clause3.extend(l)\n",
    "    \n",
    "\n",
    "    # print(\"Printing clause3 ------- \" , clause3)\n",
    "    # DNF TYPE , or of 2 and's (x1^x2) V (x3^x4) V ...\n",
    "    clause4 = []\n",
    "\n",
    "    # i and j are subgraphs\n",
    "    for i in range(K):\n",
    "        for j in range(K):\n",
    "            if i == j:\n",
    "                continue\n",
    "            l = []\n",
    "            for node in range(n):\n",
    "                l.append([(True, get1Dindex(node, i, K)), (False, get1Dindex(node, j, K))])\n",
    "            # concat l with clause4\n",
    "            clause4 = clause4 + l\n",
    "\n",
    "    # print(\"Printing clause4 ------ \" , clause4)\n",
    "\n",
    "    # numVar is the index of next free variable\n",
    "    clause4, numVar = to_cnf(clause4, numVar)\n",
    "    # print(\"Printing clause4 ------ \" , clause4)\n",
    "\n",
    "    # Clause 5, we thought it was included in previous constraints ?\n",
    "    clause5 = []\n",
    "\n",
    "    for i in range(n):\n",
    "        for j in range(i+1,n):\n",
    "            l = []\n",
    "            if(edgeMatrix[i][j]):\n",
    "                # print(\"PRINTING i, j in clause 5 --- \", i, j)\n",
    "                for t in range(K):\n",
    "                    # OR of pairwise and\n",
    "                    l.append( [(True, get1Dindex(i, t, K)), (True, get1Dindex(j, t, K))] )\n",
    "                l, numVar = to_cnf(l,numVar)\n",
    "            clause5 = clause5 + l\n",
    "\n",
    "    # print(\"Printing clause 5 ----- \", clause5)\n",
    "\n",
    "    clause = clause1 + clause2 + clause3 + clause4 + clause5\n",
    "    \n",
    "    # print(\"Num Var ---- \",numVar)\n",
    "\n",
    "    writeSatInput(fileprefix, clause, numVar)\n",
    "\n",
    "def writeSatInput(fileprefix, clause, numVar):\n",
    "    # 1 to numVar all are varialbes\n",
    "    with open(fileprefix+\".satinput\",\"w\") as outfile:\n",
    "        \n",
    "        string1 = \"p cnf %d %d\\n\" %(numVar, len(clause))\n",
    "        outfile.write(string1)\n",
    "\n",
    "        for exp in clause:\n",
    "            st = \"\"\n",
    "            for term in exp:\n",
    "                if (not term[0]):\n",
    "                    st += \"-\" \n",
    "                # To make the variables 1 indexed\n",
    "                st += str(term[1]+1) + \" \"\n",
    "            \n",
    "            st += \"0\\n\"\n",
    "            outfile.write(st)\n",
    "\n",
    "        outfile.close()\n",
    "\n",
    "\n",
    "def to_cnf(dnf_clause, free_var_num):\n",
    "\n",
    "    if (dnf_clause == []):\n",
    "        return [], free_var_num\n",
    "\n",
    "    outl = []\n",
    "    num_ands = len(dnf_clause)\n",
    "    tmpl = []\n",
    "    for i in range(num_ands):\n",
    "        tmpl.append((True, free_var_num+i))\n",
    "    outl.append(tmpl)\n",
    "\n",
    "    \n",
    "    for i in range(num_ands):\n",
    "        for var in dnf_clause[i]:\n",
    "            outl.append([(False, free_var_num + i),var])\n",
    "    \n",
    "    return outl, (free_var_num + num_ands)\n",
    "\n",
    "\n",
    "def get_out(fileprefix, num_vars):\n",
    "    with open(fileprefix+\".satoutput\",\"r\") as sat_out:\n",
    "        issat = sat_out.readline()\n",
    "        if issat != \"SAT\\n\":\n",
    "            print(\"0\")\n",
    "            exit(-1)\n",
    "        sol  = sat_out.readline()\n",
    "        assign = sol.split(\" \")\n",
    "        assign = assign[:-1] # check that this removes 0 only\n",
    "        assignments = []\n",
    "        for i in range(num_vars):\n",
    "            if assign[i][0]==\"-\":\n",
    "                assignments.append(False)\n",
    "            else:\n",
    "                assignments.append(True)   \n",
    "    \n",
    "    return assignments\n",
    "        \n",
    "\n",
    "\n",
    "# UDIT: I have tested this function (for sample case),\n",
    "# this is running as expected [assignments, i&j order etc]  \n",
    "def out(fileprefix):\n",
    "    \n",
    "    edgeList, edgeMatrix, n, K, edges = getInput(fileprefix)\n",
    "    \n",
    "    # print(edgeList, n, K)\n",
    "\n",
    "    assignments = get_out(fileprefix, n*K)\n",
    "    # print(\"Assignments are ----\",assignments)\n",
    "    variableMatrix = [[False for i in range(K)] for j in range(n)]\n",
    "    for t in range(len(assignments)):\n",
    "        i, j = get2Dindex(t, K)\n",
    "        variableMatrix[i][j] = assignments[t]\n",
    "\n",
    "    # print(\"Variable matrix is ---\",variableMatrix)\n",
    "    \n",
    "    for t in range(K):\n",
    "        count = 0\n",
    "        for i in range(n):\n",
    "            if(variableMatrix[i][t]):\n",
    "                count+=1\n",
    "        print(\"#%d %d\\n\"%(t+1, count), end=\"\")\n",
    "        for i in range(n):\n",
    "            if(variableMatrix[i][t]):\n",
    "                count -= 1\n",
    "                print(i+1, end=\"\")\n",
    "                if(count > 0):\n",
    "                    print(\" \", end=\"\")\n",
    "        print()\n",
    "\n",
    "# fileprefix = \"jumbotest\"\n",
    "# mode = 0\n",
    "# if mode == 0:\n",
    "#     generate(fileprefix)\n",
    "# else:\n",
    "#     out(fileprefix)"
   ]
  },
  {
   "cell_type": "code",
   "execution_count": 11,
   "metadata": {
    "ExecuteTime": {
     "end_time": "2018-09-29T15:18:39.421982Z",
     "start_time": "2018-09-29T15:18:39.419185Z"
    }
   },
   "outputs": [],
   "source": [
    "fileprefix = \"test4\"\n",
    "mode = 0\n"
   ]
  },
  {
   "cell_type": "code",
   "execution_count": 12,
   "metadata": {
    "ExecuteTime": {
     "end_time": "2018-09-29T15:18:39.691573Z",
     "start_time": "2018-09-29T15:18:39.687932Z"
    }
   },
   "outputs": [
    {
     "name": "stdout",
     "output_type": "stream",
     "text": [
      "The line_profiler extension is already loaded. To reload it, use:\n",
      "  %reload_ext line_profiler\n"
     ]
    }
   ],
   "source": [
    "%load_ext line_profiler"
   ]
  },
  {
   "cell_type": "code",
   "execution_count": 13,
   "metadata": {
    "ExecuteTime": {
     "end_time": "2018-09-29T15:18:41.942389Z",
     "start_time": "2018-09-29T15:18:40.107777Z"
    }
   },
   "outputs": [],
   "source": [
    "%lprun -f generate generate(fileprefix)"
   ]
  },
  {
   "cell_type": "code",
   "execution_count": null,
   "metadata": {},
   "outputs": [],
   "source": []
  }
 ],
 "metadata": {
  "kernelspec": {
   "display_name": "Python 3",
   "language": "python",
   "name": "python3"
  },
  "language_info": {
   "codemirror_mode": {
    "name": "ipython",
    "version": 3
   },
   "file_extension": ".py",
   "mimetype": "text/x-python",
   "name": "python",
   "nbconvert_exporter": "python",
   "pygments_lexer": "ipython3",
   "version": "3.6.6"
  },
  "varInspector": {
   "cols": {
    "lenName": 16,
    "lenType": 16,
    "lenVar": 40
   },
   "kernels_config": {
    "python": {
     "delete_cmd_postfix": "",
     "delete_cmd_prefix": "del ",
     "library": "var_list.py",
     "varRefreshCmd": "print(var_dic_list())"
    },
    "r": {
     "delete_cmd_postfix": ") ",
     "delete_cmd_prefix": "rm(",
     "library": "var_list.r",
     "varRefreshCmd": "cat(var_dic_list()) "
    }
   },
   "types_to_exclude": [
    "module",
    "function",
    "builtin_function_or_method",
    "instance",
    "_Feature"
   ],
   "window_display": false
  }
 },
 "nbformat": 4,
 "nbformat_minor": 2
}
